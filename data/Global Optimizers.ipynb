{
 "cells": [
  {
   "cell_type": "markdown",
   "metadata": {},
   "source": [
    "# Global Optimizers tests"
   ]
  },
  {
   "cell_type": "markdown",
   "metadata": {},
   "source": [
    "## Scipy"
   ]
  },
  {
   "cell_type": "markdown",
   "metadata": {},
   "source": [
    "#### Dual Annealing"
   ]
  },
  {
   "cell_type": "code",
   "execution_count": 1,
   "metadata": {},
   "outputs": [
    {
     "name": "stderr",
     "output_type": "stream",
     "text": [
      "C:\\Users\\temp3rr0r\\Anaconda3\\envs\\tensorflowLast\\lib\\site-packages\\numpy\\core\\__init__.py:29: UserWarning: loaded more than 1 DLL from .libs:\n",
      "C:\\Users\\temp3rr0r\\Anaconda3\\envs\\tensorflowLast\\lib\\site-packages\\numpy\\.libs\\libopenblas.IPBC74C7KURV7CB2PKT5Z5FNR3SIBV4J.gfortran-win_amd64.dll\n",
      "C:\\Users\\temp3rr0r\\Anaconda3\\envs\\tensorflowLast\\lib\\site-packages\\numpy\\.libs\\libopenblas.TXA6YQSD3GCQQC22GEQ54J2UDCXDXHWN.gfortran-win_amd64.dll\n",
      "  stacklevel=1)\n"
     ]
    }
   ],
   "source": [
    "from scipy.optimize import dual_annealing\n",
    "import numpy as np\n",
    "\n",
    "func = lambda x: np.sum(x*x - 10*np.cos(2*np.pi*x)) + 10*np.size(x)\n",
    "lw = [-5.12] * 10\n",
    "up = [5.12] * 10"
   ]
  },
  {
   "cell_type": "code",
   "execution_count": 2,
   "metadata": {},
   "outputs": [
    {
     "name": "stdout",
     "output_type": "stream",
     "text": [
      "global minimum: xmin = [-4.26437714e-09 -3.91699361e-09 -1.86149218e-09 -3.97165720e-09\n",
      " -6.29151648e-09 -6.53145322e-09 -3.93616815e-09 -6.55623025e-09\n",
      " -6.05775280e-09 -5.00668935e-09], f(xmin) = 0.000000\n"
     ]
    }
   ],
   "source": [
    "ret = dual_annealing(func, bounds=list(zip(lw, up)), seed=1234)\n",
    "print(\"global minimum: xmin = {0}, f(xmin) = {1:.6f}\".format(ret.x, ret.fun))"
   ]
  },
  {
   "cell_type": "markdown",
   "metadata": {},
   "source": [
    "#### Simplicial Homology Global Optimization (SHGO)"
   ]
  },
  {
   "cell_type": "code",
   "execution_count": 3,
   "metadata": {},
   "outputs": [],
   "source": [
    "from scipy.optimize import rosen, shgo\n",
    "bounds = [(0,2), (0, 2), (0, 2), (0, 2), (0, 2)]"
   ]
  },
  {
   "cell_type": "markdown",
   "metadata": {},
   "source": [
    "Bounded:"
   ]
  },
  {
   "cell_type": "code",
   "execution_count": 4,
   "metadata": {},
   "outputs": [
    {
     "data": {
      "text/plain": [
       "(array([1., 1., 1., 1., 1.]), 2.920392374190081e-18)"
      ]
     },
     "execution_count": 4,
     "metadata": {},
     "output_type": "execute_result"
    }
   ],
   "source": [
    "result = shgo(rosen, bounds)\n",
    "result.x, result.fun"
   ]
  },
  {
   "cell_type": "markdown",
   "metadata": {},
   "source": [
    "Empty bounds:"
   ]
  },
  {
   "cell_type": "code",
   "execution_count": 5,
   "metadata": {},
   "outputs": [
    {
     "data": {
      "text/plain": [
       "array([0.99999851, 0.99999704, 0.99999411, 0.9999882 ])"
      ]
     },
     "execution_count": 5,
     "metadata": {},
     "output_type": "execute_result"
    }
   ],
   "source": [
    "bounds = [(None, None), ]*4\n",
    "result = shgo(rosen, bounds)\n",
    "result.x"
   ]
  },
  {
   "cell_type": "markdown",
   "metadata": {},
   "source": [
    "Egg holder function (many local minima, one global minimum):"
   ]
  },
  {
   "cell_type": "code",
   "execution_count": 6,
   "metadata": {},
   "outputs": [],
   "source": [
    "def eggholder(x):\n",
    "    return (-(x[1] + 47.0)\n",
    "            * np.sin(np.sqrt(abs(x[0]/2.0 + (x[1] + 47.0))))\n",
    "            - x[0] * np.sin(np.sqrt(abs(x[0] - (x[1] + 47.0))))\n",
    "            )\n",
    "bounds = [(-512, 512), (-512, 512)]"
   ]
  },
  {
   "cell_type": "code",
   "execution_count": 7,
   "metadata": {},
   "outputs": [
    {
     "data": {
      "text/plain": [
       "(array([[ 512.        ,  404.23180542],\n",
       "        [ 283.07593402, -487.12566542],\n",
       "        [-294.66820039, -462.01964031],\n",
       "        [-105.87688985,  423.15324143],\n",
       "        [-242.97923629,  274.38032063],\n",
       "        [-506.25823477,    6.3131022 ],\n",
       "        [-408.71980114, -156.10116115],\n",
       "        [ 150.23210485,  301.31378508],\n",
       "        [  91.00921872, -391.28375655],\n",
       "        [ 202.8966344 , -269.38042147],\n",
       "        [ 361.66625957, -106.96490692],\n",
       "        [-219.40615102, -244.06022436],\n",
       "        [ 151.59603137, -100.61082677]]),\n",
       " array([-959.64066272, -718.16745962, -704.80659592, -565.99778097,\n",
       "        -559.78685655, -557.36868733, -507.87385942, -493.9605115 ,\n",
       "        -426.48799655, -421.15571437, -419.31194957, -410.98477763,\n",
       "        -202.53912972]))"
      ]
     },
     "execution_count": 7,
     "metadata": {},
     "output_type": "execute_result"
    }
   ],
   "source": [
    "result = shgo(eggholder, bounds, n=30, sampling_method='sobol')\n",
    "result.xl, result.funl"
   ]
  },
  {
   "cell_type": "code",
   "execution_count": 8,
   "metadata": {},
   "outputs": [
    {
     "data": {
      "text/plain": [
       "(13, 39)"
      ]
     },
     "execution_count": 8,
     "metadata": {},
     "output_type": "execute_result"
    }
   ],
   "source": [
    "result_2 = shgo(eggholder, bounds, n=60, iters=5, sampling_method='sobol')\n",
    "len(result.xl), len(result_2.xl)"
   ]
  },
  {
   "cell_type": "markdown",
   "metadata": {},
   "source": [
    "#### Basin Hopping"
   ]
  },
  {
   "cell_type": "code",
   "execution_count": 9,
   "metadata": {},
   "outputs": [],
   "source": [
    "from scipy.optimize import basinhopping\n",
    "func = lambda x: np.cos(14.5 * x - 0.3) + (x + 0.2) * x\n",
    "x0=[1.]"
   ]
  },
  {
   "cell_type": "code",
   "execution_count": 10,
   "metadata": {},
   "outputs": [
    {
     "name": "stdout",
     "output_type": "stream",
     "text": [
      "global minimum: x = -0.1951, f(x0) = -1.0009\n"
     ]
    }
   ],
   "source": [
    "minimizer_kwargs = {\"method\": \"BFGS\"}\n",
    "ret = basinhopping(func, x0, minimizer_kwargs=minimizer_kwargs, niter=200)\n",
    "print(\"global minimum: x = %.4f, f(x0) = %.4f\" % (ret.x, ret.fun))"
   ]
  },
  {
   "cell_type": "markdown",
   "metadata": {},
   "source": [
    "2D minimization problem:"
   ]
  },
  {
   "cell_type": "code",
   "execution_count": 11,
   "metadata": {},
   "outputs": [],
   "source": [
    "def func2d(x):\n",
    "    f = np.cos(14.5 * x[0] - 0.3) + (x[1] + 0.2) * x[1] + (x[0] + 0.2) * x[0]\n",
    "    df = np.zeros(2)\n",
    "    df[0] = -14.5 * np.sin(14.5 * x[0] - 0.3) + 2. * x[0] + 0.2\n",
    "    df[1] = 2. * x[1] + 0.2\n",
    "    return f, df"
   ]
  },
  {
   "cell_type": "code",
   "execution_count": 12,
   "metadata": {},
   "outputs": [
    {
     "name": "stdout",
     "output_type": "stream",
     "text": [
      "global minimum: x = [-0.1951, -0.1000], f(x0) = -1.0109\n"
     ]
    }
   ],
   "source": [
    "minimizer_kwargs = {\"method\":\"L-BFGS-B\", \"jac\":True}\n",
    "x0 = [1.0, 1.0]\n",
    "ret = basinhopping(func2d, x0, minimizer_kwargs=minimizer_kwargs, niter=200)\n",
    "print(\"global minimum: x = [%.4f, %.4f], f(x0) = %.4f\" % (ret.x[0],\n",
    "                                                          ret.x[1],\n",
    "                                                          ret.fun))"
   ]
  },
  {
   "cell_type": "markdown",
   "metadata": {},
   "source": [
    "Prints output at every step:"
   ]
  },
  {
   "cell_type": "code",
   "execution_count": 13,
   "metadata": {},
   "outputs": [],
   "source": [
    "def print_fun(x, f, accepted):\n",
    "        print(\"at minimum %.4f accepted %d\" % (f, int(accepted)))"
   ]
  },
  {
   "cell_type": "code",
   "execution_count": 14,
   "metadata": {},
   "outputs": [
    {
     "name": "stdout",
     "output_type": "stream",
     "text": [
      "at minimum 0.4159 accepted 1\n",
      "at minimum -0.9073 accepted 1\n",
      "at minimum -0.1021 accepted 1\n",
      "at minimum -0.1021 accepted 1\n",
      "at minimum 0.9102 accepted 1\n",
      "at minimum 0.9102 accepted 1\n",
      "at minimum 2.2945 accepted 0\n",
      "at minimum -0.1021 accepted 1\n",
      "at minimum -1.0109 accepted 1\n",
      "at minimum -1.0109 accepted 1\n"
     ]
    }
   ],
   "source": [
    "np.random.seed(1)\n",
    "ret = basinhopping(func2d, x0, minimizer_kwargs=minimizer_kwargs,\n",
    "                   niter=10, callback=print_fun)"
   ]
  },
  {
   "cell_type": "markdown",
   "metadata": {},
   "source": [
    "Bounded search:"
   ]
  },
  {
   "cell_type": "code",
   "execution_count": 15,
   "metadata": {},
   "outputs": [],
   "source": [
    "class MyBounds(object):\n",
    "    def __init__(self, xmax=[1.1,1.1], xmin=[-1.1,-1.1] ):\n",
    "        self.xmax = np.array(xmax)\n",
    "        self.xmin = np.array(xmin)\n",
    "    def __call__(self, **kwargs):\n",
    "        x = kwargs[\"x_new\"]\n",
    "        tmax = bool(np.all(x <= self.xmax))\n",
    "        tmin = bool(np.all(x >= self.xmin))\n",
    "        return tmax and tmin"
   ]
  },
  {
   "cell_type": "code",
   "execution_count": 16,
   "metadata": {},
   "outputs": [],
   "source": [
    "mybounds = MyBounds()\n",
    "ret = basinhopping(func2d, x0, minimizer_kwargs=minimizer_kwargs, niter=10, accept_test=mybounds)"
   ]
  },
  {
   "cell_type": "markdown",
   "metadata": {},
   "source": [
    "## DEAP - Distributed Evolutionary Algorithms in Python "
   ]
  },
  {
   "cell_type": "code",
   "execution_count": 17,
   "metadata": {},
   "outputs": [],
   "source": [
    "def ackley(x):\n",
    "    \"\"\"\n",
    "    Ackley function, 2 dimensional.\n",
    "    :param x: List of parameters.\n",
    "    :return: Function result, using the given x parameters.\n",
    "    \"\"\"\n",
    "    arg1 = -0.2 * np.sqrt(0.5 * (x[0] ** 2 + x[1] ** 2))\n",
    "    arg2 = 0.5 * (np.cos(2. * np.pi * x[0]) + np.cos(2. * np.pi * x[1]))\n",
    "    return -20. * np.exp(arg1) - np.exp(arg2) + 20. + np.e"
   ]
  },
  {
   "cell_type": "code",
   "execution_count": 18,
   "metadata": {},
   "outputs": [
    {
     "name": "stdout",
     "output_type": "stream",
     "text": [
      "len(pop) 10\n",
      "pop[0] [0.09748800204475072, 0.21300843514721435]\n",
      "len(pop) 10\n",
      "pop[0] [0.16691797230089978, 0.10963371074961703]\n",
      "len(pop) 10\n",
      "pop[0] [0.09748800204475072, 0.10963371074961703]\n",
      "len(pop) 10\n",
      "pop[0] [0.09748800204475072, 0.10963371074961703]\n",
      "-- Changing in generation 12 an individual\n",
      "-- pop[0] [0.5, 0.5]\n",
      "--  <class 'deap.creator.Individual'>\n",
      "len(pop) 10\n",
      "pop[0] [0.09748800204475072, 0.5]\n",
      "len(pop) 10\n",
      "pop[0] [0.09748800204475072, 0.0]\n",
      "len(pop) 10\n",
      "pop[0] [0.09748800204475072, 0.0]\n",
      "len(pop) 10\n",
      "pop[0] [0.09748800204475072, 0.0]\n",
      "len(pop) 10\n",
      "pop[0] [0.09748800204475072, 0.0]\n",
      "len(pop) 10\n",
      "pop[0] [0.09748800204475072, 0.0]\n",
      "len(pop) 10\n",
      "pop[0] [0.09748800204475072, 0.0]\n",
      "len(pop) 10\n",
      "pop[0] [0.09748800204475072, 0.0]\n",
      "len(pop) 10\n",
      "pop[0] [0.09748800204475072, 0.0]\n",
      "len(pop) 10\n",
      "pop[0] [0.09748800204475072, 0.0]\n",
      "len(pop) 10\n",
      "pop[0] [0.09748800204475072, 0.0]\n",
      "len(pop) 10\n",
      "pop[0] [0.09748800204475072, 0.0]\n",
      "len(pop) 10\n",
      "pop[0] [0.09748800204475072, 0.0]\n",
      "len(pop) 10\n",
      "pop[0] [0.09748800204475072, 0.0]\n",
      "len(pop) 10\n",
      "pop[0] [0.09748800204475072, 0.0]\n",
      "len(pop) 10\n",
      "pop[0] [0.09748800204475072, 0.0]\n",
      "[[0.09748800204475072, 0.0]]\n"
     ]
    }
   ],
   "source": [
    "import random\n",
    "from deap import algorithms, base, creator, tools\n",
    "import numpy as np\n",
    "\n",
    "creator.create(\"FitnessMax\", base.Fitness, weights=(1.0,))\n",
    "creator.create(\"FitnessMin\", base.Fitness, weights=(1.0,))\n",
    "# creator.create(\"Individual\", list, fitness=creator.FitnessMax)\n",
    "creator.create(\"Individual\", list, fitness=creator.FitnessMin)\n",
    "\n",
    "def evalOneMax(individual):\n",
    "    x = ackley(individual)\n",
    "    return_value = 1 /  np.sum(x)\n",
    "    return (return_value,)\n",
    "\n",
    "# def evalOneMax(individual):\n",
    "#     return ackley(individual)\n",
    "\n",
    "toolbox = base.Toolbox()\n",
    "# toolbox.register(\"attr_bool\", random.randint, 0, 1)\n",
    "# toolbox.register(\"individual\", tools.initRepeat, creator.Individual, toolbox.attr_bool, n=2)\n",
    "toolbox.register(\"attr_float\", random.random)\n",
    "toolbox.register(\"individual\", tools.initRepeat, creator.Individual,\n",
    "                 toolbox.attr_float, n=2)\n",
    "toolbox.register(\"population\", tools.initRepeat, list, toolbox.individual)\n",
    "toolbox.register(\"evaluate\", evalOneMax)\n",
    "toolbox.register(\"mate\", tools.cxTwoPoint)\n",
    "toolbox.register(\"mutate\", tools.mutFlipBit, indpb=0.05)\n",
    "toolbox.register(\"select\", tools.selTournament, tournsize=3)\n",
    "\n",
    "if __name__ == \"__main__\":\n",
    "    pop = toolbox.population(n=10)\n",
    "    \n",
    "    # One liner black box:\n",
    "    # algorithms.eaSimple(pop, toolbox, cxpb=0.5, mutpb=0.2, ngen=40, verbose=False) # OR\n",
    "    \n",
    "    # TODO: find all EA variations -> ~10 GA island versions\n",
    "    \n",
    "    # TODO: Gray/white box:    \n",
    "    ngen, cxpb, mutpb = 20, 0.5, 0.2\n",
    "    fitnesses = toolbox.map(toolbox.evaluate, pop)\n",
    "    for ind, fit in zip(pop, fitnesses):\n",
    "        ind.fitness.values = fit\n",
    "\n",
    "    for g in range(ngen):\n",
    "        # TODO: island communication IO\n",
    "        # TODO: individual attribs should be float in [0, 1]\n",
    "        # TODO: rescale-encapsulate to NAS Ozone DNN space        \n",
    "        pop = toolbox.select(pop, k=len(pop))\n",
    "        \n",
    "        pop = algorithms.varAnd(pop, toolbox, cxpb, mutpb)\n",
    "        \n",
    "        # TODO: Island swap specific individuals        \n",
    "        print(\"len(pop)\", len(pop))\n",
    "        print(\"pop[0]\", pop[0])\n",
    "        if g == 3:\n",
    "            print(\"-- Changing in generation 12 an individual\")\n",
    "            pop[0][0] = 0.5\n",
    "            pop[0][1] = 0.5\n",
    "            print(\"-- pop[0]\", pop[0])            \n",
    "            print(\"-- \", type(pop[0]))\n",
    "            \n",
    "        \n",
    "        invalids = [ind for ind in pop if not ind.fitness.valid]\n",
    "        fitnesses = toolbox.map(toolbox.evaluate, invalids)\n",
    "        for ind, fit in zip(invalids, fitnesses):\n",
    "            ind.fitness.values = fit\n",
    "    \n",
    "    print(tools.selBest(pop, k=1))"
   ]
  },
  {
   "cell_type": "markdown",
   "metadata": {},
   "source": [
    "# TPE "
   ]
  },
  {
   "cell_type": "code",
   "execution_count": 19,
   "metadata": {},
   "outputs": [
    {
     "name": "stdout",
     "output_type": "stream",
     "text": [
      "100%|██████████| 100/100 [00:00<00:00, 575.30it/s, best loss: 7.92918538802095e-06]\n",
      "{'x': -0.0028158809257532447}\n"
     ]
    }
   ],
   "source": [
    "import pickle\n",
    "import time\n",
    "from hyperopt import fmin, tpe, hp, STATUS_OK, Trials\n",
    "\n",
    "def objective(x):\n",
    "    return {\n",
    "        'loss': x ** 2,\n",
    "        'status': STATUS_OK,\n",
    "        # -- store other results like this\n",
    "        'eval_time': time.time(),\n",
    "        'other_stuff': {'type': None, 'value': [0, 1, 2]},\n",
    "        # -- attachments are handled differently\n",
    "        'attachments':\n",
    "            {'time_module': pickle.dumps(time.time)}\n",
    "        }\n",
    "trials = Trials()\n",
    "best = fmin(objective,\n",
    "    space=hp.uniform('x', -10, 10),\n",
    "    algo=tpe.suggest,\n",
    "    max_evals=100,\n",
    "    trials=trials)\n",
    "\n",
    "print(best)"
   ]
  }
 ],
 "metadata": {
  "kernelspec": {
   "display_name": "Python 3",
   "language": "python",
   "name": "python3"
  },
  "language_info": {
   "codemirror_mode": {
    "name": "ipython",
    "version": 3
   },
   "file_extension": ".py",
   "mimetype": "text/x-python",
   "name": "python",
   "nbconvert_exporter": "python",
   "pygments_lexer": "ipython3",
   "version": "3.6.8"
  }
 },
 "nbformat": 4,
 "nbformat_minor": 2
}

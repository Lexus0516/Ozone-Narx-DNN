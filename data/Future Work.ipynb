{
 "cells": [
  {
   "cell_type": "markdown",
   "metadata": {},
   "source": [
    "# Future Work: General notes + Transpeciation/optimizers vs mathematical benchmarks"
   ]
  },
  {
   "cell_type": "markdown",
   "metadata": {},
   "source": [
    "TODO: compare:\n",
    "\n",
    "1. 9x \"off-the-shelf\" optimizers: 6x Global optimizers + 3x Local optimizers\n",
    "2. 3x variants per Optimizer (slow, default, fast) or (exporation, default, expoitation)\n",
    "3. 5x Mathematical benchmarks.\n",
    "4. 100x Simulations per configuration.\n",
    "5. 1000 fitness evaluation steps max (or STOP if converged early)\n",
    "6. Traspeciation:\n",
    "    a. 6 islands x {slow, default, fast}: 3 configurations\n",
    "    b. 18 islands (all islands of (a))\n",
    "    c. 2D CA grid of 5x5\n",
    "    d. Local search of 100 fitness evaluations at the end."
   ]
  },
  {
   "cell_type": "markdown",
   "metadata": {},
   "source": [
    "Notes:\n",
    "\n",
    "    - Goodness of Fit (GoF) % metric should be useful for: math benchmark performance aggregation %.\n",
    "    - Multi-objective optimization:\n",
    "        - Time-series CV MSE Mean of 1-7 next days ahead forecasting mean.\n",
    "        - Fitness: Rank-weighted nD pareto of:\n",
    "            1. MSE.            \n",
    "            2. SMAPE%.\n",
    "            3. MASE%.     \n",
    "            4. IoA%.\n",
    "    - Add gene: 1-7 lag (days before) input data.\n",
    "    - Google TPUs for scaling up forecasting:\n",
    "        - Next-day -> next-hours(1h to 24h x 7d):\n",
    "            - 5 years of daily-timesteps (5y x 365 days): 1,825 to hourly-timesteps: 43,800 (24h x 5y x 365 days).\n",
    "        - Atmospheric variables (x52) PER STATION.\n",
    "    - 1D convolution.\n",
    "    - Tree/root/graph-like DNN models (with merge/concat connections).\n",
    "    - Extra genes:\n",
    "        - Optimization function selection.\n",
    "        - Initial learning rate.\n",
    "    \n"
   ]
  }
 ],
 "metadata": {
  "kernelspec": {
   "display_name": "Python 3",
   "language": "python",
   "name": "python3"
  },
  "language_info": {
   "codemirror_mode": {
    "name": "ipython",
    "version": 3
   },
   "file_extension": ".py",
   "mimetype": "text/x-python",
   "name": "python",
   "nbconvert_exporter": "python",
   "pygments_lexer": "ipython3",
   "version": "3.6.8"
  }
 },
 "nbformat": 4,
 "nbformat_minor": 2
}

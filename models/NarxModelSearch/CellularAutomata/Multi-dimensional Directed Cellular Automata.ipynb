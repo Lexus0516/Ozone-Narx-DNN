{
 "cells": [
  {
   "cell_type": "markdown",
   "metadata": {},
   "source": [
    "Create the n-dimensional grid:"
   ]
  },
  {
   "cell_type": "code",
   "execution_count": 178,
   "metadata": {},
   "outputs": [
    {
     "name": "stdout",
     "output_type": "stream",
     "text": [
      "neighbours:  [[1 1 1]\n",
      " [1 1 1]\n",
      " [1 1 1]]\n",
      "grid1\n",
      " [[[0. 0. 0.]\n",
      "  [0. 0. 0.]\n",
      "  [0. 0. 0.]]\n",
      "\n",
      " [[0. 0. 0.]\n",
      "  [0. 0. 0.]\n",
      "  [0. 0. 0.]]\n",
      "\n",
      " [[0. 0. 0.]\n",
      "  [0. 0. 0.]\n",
      "  [0. 0. 0.]]]\n",
      "cell_index\n",
      " [1 1 1]\n",
      "neighbhour_indices\n",
      " [[2 1 1]\n",
      " [1 2 1]\n",
      " [1 1 2]]\n",
      "grid1_last\n",
      " [[[ 0.  0.  0.]\n",
      "  [ 0.  0.  0.]\n",
      "  [ 0.  0.  0.]]\n",
      "\n",
      " [[ 0.  0.  0.]\n",
      "  [ 0.  1. -1.]\n",
      "  [ 0. -1.  0.]]\n",
      "\n",
      " [[ 0.  0.  0.]\n",
      "  [ 0. -1.  0.]\n",
      "  [ 0.  0.  0.]]]\n"
     ]
    }
   ],
   "source": [
    "## import numpy as np\n",
    "\n",
    "dimensions = 3\n",
    "side_size = 3\n",
    "def get_cellular_automata_grid(dimensions, side_size):\n",
    "    \n",
    "    grid_shape = [side_size] * dimensions\n",
    "    grid = np.zeros(grid_shape)\n",
    "    return grid\n",
    "\n",
    "def get_neighbour_indices(grid, cell_index):\n",
    "    # TODO: Von Neumann\n",
    "    # TODO: check if cell index dims & grid ones match\n",
    "    grid_shape = grid.shape\n",
    "    assert(len(grid_shape) == len(cell_index))\n",
    "    \n",
    "    neighbours = np.array([cell_index] * len(cell_index))\n",
    "    print(\"neighbours: \", neighbours)\n",
    "    \n",
    "#     for dimension_index in cell_index:\n",
    "#         assert(dimension_index < grid_shape[dimension_index])\n",
    "#         if dimension_index == grid_shape[dimension_index]:\n",
    "#             current_index = 0\n",
    "#         else:\n",
    "#             current_index = dimension_index + 1\n",
    "      \n",
    "    for i in range(len(neighbours)):        \n",
    "        if neighbours[i][i] == grid.shape[i] - 1:\n",
    "            neighbours[i][i] = 0\n",
    "        else:\n",
    "            neighbours[i][i] = neighbours[i][i] + 1\n",
    "#         print(i, i)\n",
    "#     index = 0\n",
    "#     dimension = 0\n",
    "#     for neighbor in neighbours:\n",
    "        \n",
    "#         current_index = neighbours[dimension][index]\n",
    "        \n",
    "#         if current_index == grid_shape[dimension] - 1:\n",
    "#             current_index = 0\n",
    "#         else:\n",
    "#             current_index = current_index + 1\n",
    "        \n",
    "#         neighbours[dimension][index] = current_index\n",
    "# #         print(\"neighbor\", neighbor)\n",
    "#         index = index + 1\n",
    "#         dimension = dimension + 1\n",
    "    \n",
    "        \n",
    "    return neighbours\n",
    "\n",
    "grid1 = get_cellular_automata_grid(dimensions, side_size)\n",
    "cell_index1 = np.array([1, 1, 1])\n",
    "neighbhour_indices = get_neighbour_indices(grid1, cell_index1)\n",
    "\n",
    "\n",
    "# Print\n",
    "print(\"grid1\\n\", grid1)\n",
    "print(\"cell_index\\n\", cell_index1)\n",
    "print(\"neighbhour_indices\\n\", neighbhour_indices)\n",
    "# New grid\n",
    "grid1_last = grid1.copy()\n",
    "grid1_last[tuple(cell_index1)] = 1\n",
    "for neighbhor_index in neighbhour_indices:\n",
    "    grid1_last[tuple(neighbhor_index)] = -1\n",
    "print(\"grid1_last\\n\", grid1_last)"
   ]
  },
  {
   "cell_type": "code",
   "execution_count": 19,
   "metadata": {},
   "outputs": [
    {
     "data": {
      "text/plain": [
       "[3, 3, 3]"
      ]
     },
     "execution_count": 19,
     "metadata": {},
     "output_type": "execute_result"
    }
   ],
   "source": [
    "[side_size] * dimensions"
   ]
  },
  {
   "cell_type": "code",
   "execution_count": 124,
   "metadata": {},
   "outputs": [
    {
     "name": "stdout",
     "output_type": "stream",
     "text": [
      "2\n"
     ]
    }
   ],
   "source": [
    "print(len(grid1.shape))"
   ]
  },
  {
   "cell_type": "markdown",
   "metadata": {},
   "source": [
    "Create the neighborhood indices mask:"
   ]
  },
  {
   "cell_type": "markdown",
   "metadata": {},
   "source": [
    "Test run:"
   ]
  }
 ],
 "metadata": {
  "kernelspec": {
   "display_name": "Python 3",
   "language": "python",
   "name": "python3"
  },
  "language_info": {
   "codemirror_mode": {
    "name": "ipython",
    "version": 3
   },
   "file_extension": ".py",
   "mimetype": "text/x-python",
   "name": "python",
   "nbconvert_exporter": "python",
   "pygments_lexer": "ipython3",
   "version": "3.6.7"
  }
 },
 "nbformat": 4,
 "nbformat_minor": 2
}

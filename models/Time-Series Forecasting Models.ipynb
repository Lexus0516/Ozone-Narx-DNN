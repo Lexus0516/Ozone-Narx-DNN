{
 "cells": [
  {
   "cell_type": "markdown",
   "metadata": {},
   "source": [
    "AutoRegressive (AR) Model"
   ]
  },
  {
   "cell_type": "code",
   "execution_count": null,
   "metadata": {},
   "outputs": [],
   "source": [
    "\n",
    "# AR example\n",
    "from statsmodels.tsa.ar_model import AR\n",
    "from random import random\n",
    "# contrived dataset\n",
    "data = [x + random() for x in range(1, 100)]\n",
    "# fit model\n",
    "model = AR(data)\n",
    "model_fit = model.fit()\n",
    "# make prediction\n",
    "yhat = model_fit.predict(len(data), len(data))\n",
    "print(yhat)"
   ]
  },
  {
   "cell_type": "markdown",
   "metadata": {},
   "source": [
    "# TODO: Minimal model runner"
   ]
  },
  {
   "cell_type": "markdown",
   "metadata": {},
   "source": [
    "Load the best model & its weights:"
   ]
  },
  {
   "cell_type": "code",
   "execution_count": 68,
   "metadata": {},
   "outputs": [],
   "source": [
    "from __future__ import print_function\n",
    "import numpy as np\n",
    "from keras.models import model_from_json\n",
    "import pandas as pd\n",
    "\n",
    "json_file = open('NarxModelSearch/foundModels/bestModelArchitecture.json', 'r')\n",
    "loaded_model_json = json_file.read()\n",
    "json_file.close()\n",
    "loaded_model = model_from_json(loaded_model_json)\n",
    "loaded_model.load_weights(\"NarxModelSearch/foundModels/bestModelWeights.h5\")"
   ]
  },
  {
   "cell_type": "markdown",
   "metadata": {},
   "source": [
    "Use CPU only for inference:"
   ]
  },
  {
   "cell_type": "code",
   "execution_count": 16,
   "metadata": {},
   "outputs": [],
   "source": [
    "import os\n",
    "os.environ[\"CUDA_DEVICE_ORDER\"] = \"PCI_BUS_ID\"\n",
    "os.environ[\"CUDA_VISIBLE_DEVICES\"] = \"-1\"  # Use CPU only for inference"
   ]
  },
  {
   "cell_type": "markdown",
   "metadata": {},
   "source": [
    "Load 1 timestep data (regularized). Apply inference and calculate Mean Absolute Error:"
   ]
  },
  {
   "cell_type": "code",
   "execution_count": 69,
   "metadata": {},
   "outputs": [
    {
     "name": "stdout",
     "output_type": "stream",
     "text": [
      "Predicted Class:  [[10.17724028 17.31971536  9.43092436 32.52502283]] , \n",
      "Expected Value:  [[10.167 31.333 12.714 56.   ]] , \n",
      "MAE:  10.195394432713323\n"
     ]
    }
   ],
   "source": [
    "from sklearn.metrics import mean_absolute_error\n",
    "\n",
    "x_test = np.array([[-1.4637865357113862,0.0,-0.17825034249356936,-0.8714546447214053,-0.6732086521817179,-0.7305472048480615,-1.0486963956544932,0.0,0.18123770273254766,0.206240947114815,0.18434534021939733,-0.6120256778759718,-1.8431745509502668,1.8638710730501094,0.0,0.3669155543579182,-0.901781445978525,-1.5616574533243328,-0.11468025654525797,-0.28513181106862157,-0.45161521091545553,-0.05077373143594698,0.9014163302097319,0.3670787922973532,-0.9413247677263876,0.8394445341903084,-0.7917177921434951,-0.007433665851976794,-1.6411636598606514,-1.4270737147924553,-1.2680733813819316,-1.4549687609911894,-0.8128020381964033,-1.252926455305085,0.16456403869691877,1.2791846529730362,-1.0723040258809808,1.9106924374104068,-0.8619493885574948,-0.8397542168186316,0.8107533753410511,-1.6763588441478832,-1.633978771799278,-0.6788111186319797,-1.488483294118203,-0.4812170059297674,-0.556442999605917,-1.5923524553026802,-0.4556882014391182,0.38258119392244355,0.9184542764799596,-1.7229654030785873,-1.2486125339911007,-1.6296134938696192,-0.5513250573781627]\n",
    "#                   [-1.4580110716607633,0.0,-0.17825034249356936,-0.8795530754591411,1.539767533120826,1.9768647449755952,-0.15735715242576703,0.0,0.15042421976980694,0.16616924975962724,0.1397684973245762,-0.5901528281604576,-1.6552794078595103,1.9026796448657408,0.0,0.6692933056878467,-1.2562373765106367,-1.4656450251154083,-0.11468025654525797,-0.28513181106862157,-0.45161521091545553,-0.05077373143594698,0.908361276304819,0.6637245471496837,-1.7023986115020728,1.0857976130093205,-0.49271097933910635,0.19950430214453216,-1.3701544320186752,-0.8487644963951695,-1.256324762991466,-1.4767858654956634,-0.49383198934876776,-1.2428014733988586,-0.25583910718374675,1.3497152928047094,-1.1399355884320759,2.169857741075629,-0.8618975153164892,-0.7584987436302244,0.8296223696432432,-1.3849413045505459,-1.393719897339902,-0.6693265457229104,-0.9933424042622564,-0.4812170059297674,-0.4891034676132891,-1.3818548427205115,-0.4783096942533903,0.37962359035297616,0.918450143640015,-1.7229654030785873,-1.2486125339911007,-1.6296134938696192,-0.5513250573781627]\n",
    "                  ])\n",
    "x_test_3d = x_test.reshape(x_test.shape[0],1, x_test.shape[1])\n",
    "y_validation = np.array([\n",
    "                        [-1.7234439343050418,-1.24871809969951,-1.629934901667087,-0.5512929064853513],\n",
    "#                         [-1.7243938048794853,-1.24871809969951,-1.629934901667087,-0.5512929064853513]\n",
    "                        ])\n",
    "\n",
    "prediction = loaded_model.predict(x_test_3d)\n",
    "\n",
    "\n",
    "sensor_mean = pd.read_pickle(\"NarxModelSearch/data/BETN073_ts_mean.pkl\")\n",
    "sensor_std = pd.read_pickle(\"NarxModelSearch/data/BETN073_ts_std.pkl\")\n",
    "sensor_mean = np.array(sensor_mean)\n",
    "sensor_std = np.array(sensor_std)\n",
    "\n",
    "prediction = (prediction * sensor_std[0:y_data.shape[1]]) + sensor_mean[0:y_data.shape[1]]\n",
    "y_validation = (y_validation * sensor_std[0:y_data.shape[1]]) + sensor_mean[0:y_data.shape[1]]\n",
    "\n",
    "print('Predicted Class: ', prediction, ', \\nExpected Value: ', y_validation, ', \\nMAE: ',\n",
    "      mean_absolute_error(prediction, y_validation))\n"
   ]
  }
 ],
 "metadata": {
  "kernelspec": {
   "display_name": "Python 3",
   "language": "python",
   "name": "python3"
  },
  "language_info": {
   "codemirror_mode": {
    "name": "ipython",
    "version": 3
   },
   "file_extension": ".py",
   "mimetype": "text/x-python",
   "name": "python",
   "nbconvert_exporter": "python",
   "pygments_lexer": "ipython3",
   "version": "3.6.6"
  }
 },
 "nbformat": 4,
 "nbformat_minor": 2
}
